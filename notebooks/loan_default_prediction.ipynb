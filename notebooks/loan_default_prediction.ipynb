{
 "cells": [
  {
   "cell_type": "code",
   "execution_count": null,
   "metadata": {
    "vscode": {
     "languageId": "plaintext"
    }
   },
   "outputs": [],
   "source": [
    "# notebooks/loan_default_prediction.ipynb\n",
    "from src.visualization.model_evaluation import ModelEvaluationPlotter\n",
    "\n",
    "output_dir = 'visualization_outputs'\n",
    "os.makedirs(output_dir, exist_ok=True)\n",
    "\n",
    "plotter = ModelEvaluationPlotter(output_dir)\n",
    "\n",
    "# Plot confusion matrices and ROC curves for the models\n",
    "plotter.plot_confusion_matrix(y_test, y_pred, 'Random Forest')\n",
    "plotter.plot_roc_curve(y_test, y_pred_proba, 'Random Forest')\n",
    "\n",
    "plotter.plot_confusion_matrix(y_test, xgb_y_pred, 'XGBoost')\n",
    "plotter.plot_roc_curve(y_test, xgb_y_pred_proba, 'XGBoost')\n",
    "\n",
    "plotter.plot_confusion_matrix(y_test, xgb_tuned_y_pred, 'XGBoost Tuned')\n",
    "plotter.plot_roc_curve(y_test, xgb_tuned_y_pred_proba, 'XGBoost Tuned')\n",
    "\n",
    "plotter.plot_confusion_matrix(y_test, lgb_y_pred, 'LightGBM')\n",
    "plotter.plot_roc_curve(y_test, lgb_y_pred_proba, 'LightGBM')"
   ]
  }
 ],
 "metadata": {
  "language_info": {
   "name": "python"
  }
 },
 "nbformat": 4,
 "nbformat_minor": 2
}
